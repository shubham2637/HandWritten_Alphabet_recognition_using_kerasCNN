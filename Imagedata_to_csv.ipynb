{
 "cells": [
  {
   "cell_type": "code",
   "execution_count": 1,
   "metadata": {},
   "outputs": [],
   "source": [
    "import cv2 as cv\n",
    "import pandas as pd\n",
    "import numpy as np\n",
    "import os\n",
    "import matplotlib.pyplot as plt"
   ]
  },
  {
   "cell_type": "code",
   "execution_count": 2,
   "metadata": {},
   "outputs": [
    {
     "data": {
      "text/plain": [
       "'A'"
      ]
     },
     "execution_count": 2,
     "metadata": {},
     "output_type": "execute_result"
    }
   ],
   "source": [
    "PATH = os.getcwd()\n",
    "# Define data path\n",
    "data_path = PATH + '\\\\data'\n",
    "data_dir_list = os.listdir(data_path)\n",
    "data_dir_list[0]"
   ]
  },
  {
   "cell_type": "code",
   "execution_count": 3,
   "metadata": {},
   "outputs": [
    {
     "name": "stdout",
     "output_type": "stream",
     "text": [
      "25 Z\n"
     ]
    }
   ],
   "source": [
    "labels_name = dict()\n",
    "for i,e in enumerate(data_dir_list):labels_name[i]=e\n",
    "print( i , labels_name[len(labels_name)-1])"
   ]
  },
  {
   "cell_type": "code",
   "execution_count": 4,
   "metadata": {},
   "outputs": [
    {
     "data": {
      "text/plain": [
       "785"
      ]
     },
     "execution_count": 4,
     "metadata": {},
     "output_type": "execute_result"
    }
   ],
   "source": [
    "# A list for column names of csv\n",
    "#columnNames = data_dir_list\n",
    "columnNames = []\n",
    "# A column for label\n",
    "columnNames.append('label')\n",
    "# Other pixels column\n",
    "# replace 784 with your image size, here it is 28x28=784\n",
    "# iterate and build headers\n",
    "for i in range(784):\n",
    "    pixel = str(i)\n",
    "    columnNames.append(pixel)\n",
    "\n",
    "# Create a Pandas dataframe for storing data\n",
    "df = pd.DataFrame(columns = columnNames)\n",
    "\n",
    "# calculates the total number of images in the dataset initially 0\n",
    "num_images = 0\n",
    "len(columnNames)"
   ]
  },
  {
   "cell_type": "code",
   "execution_count": null,
   "metadata": {},
   "outputs": [
    {
     "name": "stdout",
     "output_type": "stream",
     "text": [
      "C:\\Users\\shubh\\Downloads\\kera\\data\\A\n",
      "A 11200\n",
      "C:\\Users\\shubh\\Downloads\\kera\\data\\B\n",
      "B 22400\n",
      "C:\\Users\\shubh\\Downloads\\kera\\data\\C\n",
      "C 28000\n",
      "C:\\Users\\shubh\\Downloads\\kera\\data\\D\n",
      "D 39200\n",
      "C:\\Users\\shubh\\Downloads\\kera\\data\\E\n"
     ]
    }
   ],
   "source": [
    "label_count,index= 0,0\n",
    "data = pd.DataFrame()\n",
    "for folder in data_dir_list:\n",
    "    folder_path = data_path+\"\\\\\"+folder\n",
    "    print(folder_path)\n",
    "    Image_list = os.listdir(folder_path)\n",
    "    for image_name in Image_list:\n",
    "        image_location = folder_path+\"\\\\\"+image_name\n",
    "        image = cv.imread(image_location)\n",
    "        #imager = cv.cvtC\n",
    "        grayimage = cv.cvtColor(image,cv.COLOR_BGR2GRAY)\n",
    "        #change grayimage to image for color images\n",
    "        #28*28 = 784     28*28*3=2352\n",
    "        resizeimage = cv.resize(grayimage,(28,28))\n",
    "        data = []\n",
    "        for i in range(28):\n",
    "            for j in range(28):\n",
    "                data.append(resizeimage[i][j]/255)\n",
    "        #print(data)\n",
    "        #image_flatten = resizeimage.flatten().reshape(1,-1)\n",
    "        #tarin_data = train_data.append(data)\n",
    "        data_to_append = {}\n",
    "        for i in range(len(data)):\n",
    "            data_to_append[df.columns[i+1]] = data[i]\n",
    "        data_to_append[df.columns[0]] = label_count        \n",
    "        df = df.append(data_to_append, ignore_index = True)\n",
    "        #train_data.loc[index] = data\n",
    "        index+=1\n",
    "    print(labels_name[label_count] , index)\n",
    "    label_count+=1\n",
    "#print(data)    \n",
    "#print(image_flatten.shape)\n",
    "rgbimg = cv.cvtColor(image,cv.COLOR_BGR2RGB)\n",
    "plt.imshow(rgbimg)\n",
    "        "
   ]
  },
  {
   "cell_type": "code",
   "execution_count": null,
   "metadata": {},
   "outputs": [],
   "source": [
    "df"
   ]
  },
  {
   "cell_type": "code",
   "execution_count": null,
   "metadata": {},
   "outputs": [],
   "source": [
    "#saving Dataframe to csv\n",
    "df.to_csv(\"A-Z_ThinkTac_new_alpha.csv\", index=False)"
   ]
  },
  {
   "cell_type": "code",
   "execution_count": null,
   "metadata": {},
   "outputs": [],
   "source": [
    "data = pd.read_csv('A-Z_ThinkTac_new_alpha.csv')\n",
    "data.head()"
   ]
  },
  {
   "cell_type": "code",
   "execution_count": null,
   "metadata": {},
   "outputs": [],
   "source": []
  }
 ],
 "metadata": {
  "kernelspec": {
   "display_name": "Python 3",
   "language": "python",
   "name": "python3"
  },
  "language_info": {
   "codemirror_mode": {
    "name": "ipython",
    "version": 3
   },
   "file_extension": ".py",
   "mimetype": "text/x-python",
   "name": "python",
   "nbconvert_exporter": "python",
   "pygments_lexer": "ipython3",
   "version": "3.6.10"
  }
 },
 "nbformat": 4,
 "nbformat_minor": 4
}
