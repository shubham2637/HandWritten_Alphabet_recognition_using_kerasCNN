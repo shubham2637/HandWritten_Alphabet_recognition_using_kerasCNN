{
 "cells": [
  {
   "cell_type": "code",
   "execution_count": 1,
   "metadata": {},
   "outputs": [
    {
     "name": "stderr",
     "output_type": "stream",
     "text": [
      "Using TensorFlow backend.\n"
     ]
    }
   ],
   "source": [
    "from keras.models import Sequential\n",
    "from keras.layers import Dense\n",
    "from keras.layers import Dropout\n",
    "from keras.layers import Flatten\n",
    "from keras.layers.convolutional import Conv2D\n",
    "from keras.layers.convolutional import MaxPooling2D\n",
    "from keras import backend as K\n",
    "from keras.utils import np_utils\n",
    "from sklearn.model_selection import train_test_split\n",
    "from sklearn.preprocessing import MinMaxScaler\n",
    "import numpy as np\n",
    "import pandas as pd\n",
    "import cv2 as cv\n",
    "from tensorflow.keras.callbacks import EarlyStopping"
   ]
  },
  {
   "cell_type": "code",
   "execution_count": 2,
   "metadata": {},
   "outputs": [],
   "source": [
    "data = pd.read_csv(\"A-Z_ThinkTac_aplha.csv\")"
   ]
  },
  {
   "cell_type": "code",
   "execution_count": 3,
   "metadata": {},
   "outputs": [
    {
     "data": {
      "text/html": [
       "<div>\n",
       "<style scoped>\n",
       "    .dataframe tbody tr th:only-of-type {\n",
       "        vertical-align: middle;\n",
       "    }\n",
       "\n",
       "    .dataframe tbody tr th {\n",
       "        vertical-align: top;\n",
       "    }\n",
       "\n",
       "    .dataframe thead th {\n",
       "        text-align: right;\n",
       "    }\n",
       "</style>\n",
       "<table border=\"1\" class=\"dataframe\">\n",
       "  <thead>\n",
       "    <tr style=\"text-align: right;\">\n",
       "      <th></th>\n",
       "      <th>label</th>\n",
       "      <th>0.0</th>\n",
       "      <th>0.01</th>\n",
       "      <th>0.02</th>\n",
       "      <th>0.03</th>\n",
       "      <th>0.04</th>\n",
       "      <th>0.05</th>\n",
       "      <th>0.06</th>\n",
       "      <th>0.07</th>\n",
       "      <th>0.08</th>\n",
       "      <th>...</th>\n",
       "      <th>7.74</th>\n",
       "      <th>7.75</th>\n",
       "      <th>7.76</th>\n",
       "      <th>7.77</th>\n",
       "      <th>7.78</th>\n",
       "      <th>7.79</th>\n",
       "      <th>7.8</th>\n",
       "      <th>7.81</th>\n",
       "      <th>7.82</th>\n",
       "      <th>7.83</th>\n",
       "    </tr>\n",
       "  </thead>\n",
       "  <tbody>\n",
       "    <tr>\n",
       "      <th>2195</th>\n",
       "      <td>25.0</td>\n",
       "      <td>0.980392</td>\n",
       "      <td>0.984314</td>\n",
       "      <td>0.992157</td>\n",
       "      <td>0.992157</td>\n",
       "      <td>0.996078</td>\n",
       "      <td>0.996078</td>\n",
       "      <td>1.000000</td>\n",
       "      <td>0.996078</td>\n",
       "      <td>0.996078</td>\n",
       "      <td>...</td>\n",
       "      <td>0.984314</td>\n",
       "      <td>0.972549</td>\n",
       "      <td>0.980392</td>\n",
       "      <td>0.992157</td>\n",
       "      <td>0.992157</td>\n",
       "      <td>0.996078</td>\n",
       "      <td>0.996078</td>\n",
       "      <td>0.996078</td>\n",
       "      <td>0.996078</td>\n",
       "      <td>0.996078</td>\n",
       "    </tr>\n",
       "    <tr>\n",
       "      <th>2196</th>\n",
       "      <td>25.0</td>\n",
       "      <td>0.980392</td>\n",
       "      <td>0.968627</td>\n",
       "      <td>0.949020</td>\n",
       "      <td>0.921569</td>\n",
       "      <td>0.898039</td>\n",
       "      <td>0.874510</td>\n",
       "      <td>0.839216</td>\n",
       "      <td>0.796078</td>\n",
       "      <td>0.745098</td>\n",
       "      <td>...</td>\n",
       "      <td>0.984314</td>\n",
       "      <td>0.996078</td>\n",
       "      <td>1.000000</td>\n",
       "      <td>1.000000</td>\n",
       "      <td>1.000000</td>\n",
       "      <td>0.996078</td>\n",
       "      <td>0.996078</td>\n",
       "      <td>0.996078</td>\n",
       "      <td>0.996078</td>\n",
       "      <td>0.996078</td>\n",
       "    </tr>\n",
       "    <tr>\n",
       "      <th>2197</th>\n",
       "      <td>25.0</td>\n",
       "      <td>0.996078</td>\n",
       "      <td>0.996078</td>\n",
       "      <td>0.996078</td>\n",
       "      <td>0.992157</td>\n",
       "      <td>0.996078</td>\n",
       "      <td>0.996078</td>\n",
       "      <td>0.996078</td>\n",
       "      <td>0.988235</td>\n",
       "      <td>0.988235</td>\n",
       "      <td>...</td>\n",
       "      <td>0.992157</td>\n",
       "      <td>0.992157</td>\n",
       "      <td>0.988235</td>\n",
       "      <td>0.988235</td>\n",
       "      <td>0.992157</td>\n",
       "      <td>0.996078</td>\n",
       "      <td>1.000000</td>\n",
       "      <td>0.996078</td>\n",
       "      <td>0.992157</td>\n",
       "      <td>0.992157</td>\n",
       "    </tr>\n",
       "    <tr>\n",
       "      <th>2198</th>\n",
       "      <td>25.0</td>\n",
       "      <td>0.678431</td>\n",
       "      <td>0.545098</td>\n",
       "      <td>0.286275</td>\n",
       "      <td>0.317647</td>\n",
       "      <td>0.466667</td>\n",
       "      <td>0.584314</td>\n",
       "      <td>0.678431</td>\n",
       "      <td>0.749020</td>\n",
       "      <td>0.815686</td>\n",
       "      <td>...</td>\n",
       "      <td>0.062745</td>\n",
       "      <td>0.070588</td>\n",
       "      <td>0.274510</td>\n",
       "      <td>0.509804</td>\n",
       "      <td>0.733333</td>\n",
       "      <td>0.921569</td>\n",
       "      <td>0.972549</td>\n",
       "      <td>1.000000</td>\n",
       "      <td>0.996078</td>\n",
       "      <td>0.996078</td>\n",
       "    </tr>\n",
       "    <tr>\n",
       "      <th>2199</th>\n",
       "      <td>25.0</td>\n",
       "      <td>0.984314</td>\n",
       "      <td>0.988235</td>\n",
       "      <td>0.996078</td>\n",
       "      <td>0.992157</td>\n",
       "      <td>0.992157</td>\n",
       "      <td>0.992157</td>\n",
       "      <td>0.996078</td>\n",
       "      <td>0.992157</td>\n",
       "      <td>0.992157</td>\n",
       "      <td>...</td>\n",
       "      <td>0.113725</td>\n",
       "      <td>0.090196</td>\n",
       "      <td>0.105882</td>\n",
       "      <td>0.160784</td>\n",
       "      <td>0.607843</td>\n",
       "      <td>0.980392</td>\n",
       "      <td>0.996078</td>\n",
       "      <td>0.996078</td>\n",
       "      <td>0.992157</td>\n",
       "      <td>0.988235</td>\n",
       "    </tr>\n",
       "  </tbody>\n",
       "</table>\n",
       "<p>5 rows × 785 columns</p>\n",
       "</div>"
      ],
      "text/plain": [
       "      label       0.0      0.01      0.02      0.03      0.04      0.05  \\\n",
       "2195   25.0  0.980392  0.984314  0.992157  0.992157  0.996078  0.996078   \n",
       "2196   25.0  0.980392  0.968627  0.949020  0.921569  0.898039  0.874510   \n",
       "2197   25.0  0.996078  0.996078  0.996078  0.992157  0.996078  0.996078   \n",
       "2198   25.0  0.678431  0.545098  0.286275  0.317647  0.466667  0.584314   \n",
       "2199   25.0  0.984314  0.988235  0.996078  0.992157  0.992157  0.992157   \n",
       "\n",
       "          0.06      0.07      0.08  ...      7.74      7.75      7.76  \\\n",
       "2195  1.000000  0.996078  0.996078  ...  0.984314  0.972549  0.980392   \n",
       "2196  0.839216  0.796078  0.745098  ...  0.984314  0.996078  1.000000   \n",
       "2197  0.996078  0.988235  0.988235  ...  0.992157  0.992157  0.988235   \n",
       "2198  0.678431  0.749020  0.815686  ...  0.062745  0.070588  0.274510   \n",
       "2199  0.996078  0.992157  0.992157  ...  0.113725  0.090196  0.105882   \n",
       "\n",
       "          7.77      7.78      7.79       7.8      7.81      7.82      7.83  \n",
       "2195  0.992157  0.992157  0.996078  0.996078  0.996078  0.996078  0.996078  \n",
       "2196  1.000000  1.000000  0.996078  0.996078  0.996078  0.996078  0.996078  \n",
       "2197  0.988235  0.992157  0.996078  1.000000  0.996078  0.992157  0.992157  \n",
       "2198  0.509804  0.733333  0.921569  0.972549  1.000000  0.996078  0.996078  \n",
       "2199  0.160784  0.607843  0.980392  0.996078  0.996078  0.992157  0.988235  \n",
       "\n",
       "[5 rows x 785 columns]"
      ]
     },
     "execution_count": 3,
     "metadata": {},
     "output_type": "execute_result"
    }
   ],
   "source": [
    "data.tail()"
   ]
  },
  {
   "cell_type": "code",
   "execution_count": 4,
   "metadata": {},
   "outputs": [],
   "source": [
    "big_letters = list(map(chr, range(ord('A'), ord('Z')+1)))"
   ]
  },
  {
   "cell_type": "code",
   "execution_count": 5,
   "metadata": {},
   "outputs": [
    {
     "data": {
      "text/plain": [
       "(2200, 785)"
      ]
     },
     "execution_count": 5,
     "metadata": {},
     "output_type": "execute_result"
    }
   ],
   "source": [
    "data.shape"
   ]
  },
  {
   "cell_type": "code",
   "execution_count": 6,
   "metadata": {},
   "outputs": [
    {
     "data": {
      "text/html": [
       "<div>\n",
       "<style scoped>\n",
       "    .dataframe tbody tr th:only-of-type {\n",
       "        vertical-align: middle;\n",
       "    }\n",
       "\n",
       "    .dataframe tbody tr th {\n",
       "        vertical-align: top;\n",
       "    }\n",
       "\n",
       "    .dataframe thead th {\n",
       "        text-align: right;\n",
       "    }\n",
       "</style>\n",
       "<table border=\"1\" class=\"dataframe\">\n",
       "  <thead>\n",
       "    <tr style=\"text-align: right;\">\n",
       "      <th></th>\n",
       "      <th>label</th>\n",
       "      <th>0.0</th>\n",
       "      <th>0.01</th>\n",
       "      <th>0.02</th>\n",
       "      <th>0.03</th>\n",
       "      <th>0.04</th>\n",
       "      <th>0.05</th>\n",
       "      <th>0.06</th>\n",
       "      <th>0.07</th>\n",
       "      <th>0.08</th>\n",
       "      <th>...</th>\n",
       "      <th>7.74</th>\n",
       "      <th>7.75</th>\n",
       "      <th>7.76</th>\n",
       "      <th>7.77</th>\n",
       "      <th>7.78</th>\n",
       "      <th>7.79</th>\n",
       "      <th>7.8</th>\n",
       "      <th>7.81</th>\n",
       "      <th>7.82</th>\n",
       "      <th>7.83</th>\n",
       "    </tr>\n",
       "  </thead>\n",
       "  <tbody>\n",
       "    <tr>\n",
       "      <th>0</th>\n",
       "      <td>0.0</td>\n",
       "      <td>1.000000</td>\n",
       "      <td>0.996078</td>\n",
       "      <td>0.996078</td>\n",
       "      <td>0.992157</td>\n",
       "      <td>0.992157</td>\n",
       "      <td>0.992157</td>\n",
       "      <td>0.992157</td>\n",
       "      <td>0.992157</td>\n",
       "      <td>0.992157</td>\n",
       "      <td>...</td>\n",
       "      <td>0.984314</td>\n",
       "      <td>0.988235</td>\n",
       "      <td>0.976471</td>\n",
       "      <td>0.968627</td>\n",
       "      <td>0.839216</td>\n",
       "      <td>0.647059</td>\n",
       "      <td>0.337255</td>\n",
       "      <td>0.047059</td>\n",
       "      <td>0.066667</td>\n",
       "      <td>0.082353</td>\n",
       "    </tr>\n",
       "    <tr>\n",
       "      <th>1</th>\n",
       "      <td>0.0</td>\n",
       "      <td>0.992157</td>\n",
       "      <td>0.992157</td>\n",
       "      <td>0.996078</td>\n",
       "      <td>0.996078</td>\n",
       "      <td>0.996078</td>\n",
       "      <td>0.996078</td>\n",
       "      <td>0.996078</td>\n",
       "      <td>0.996078</td>\n",
       "      <td>0.988235</td>\n",
       "      <td>...</td>\n",
       "      <td>0.996078</td>\n",
       "      <td>0.992157</td>\n",
       "      <td>0.996078</td>\n",
       "      <td>0.992157</td>\n",
       "      <td>0.996078</td>\n",
       "      <td>0.996078</td>\n",
       "      <td>0.992157</td>\n",
       "      <td>1.000000</td>\n",
       "      <td>1.000000</td>\n",
       "      <td>1.000000</td>\n",
       "    </tr>\n",
       "    <tr>\n",
       "      <th>2</th>\n",
       "      <td>0.0</td>\n",
       "      <td>0.988235</td>\n",
       "      <td>0.992157</td>\n",
       "      <td>0.996078</td>\n",
       "      <td>0.992157</td>\n",
       "      <td>0.984314</td>\n",
       "      <td>0.980392</td>\n",
       "      <td>0.980392</td>\n",
       "      <td>0.796078</td>\n",
       "      <td>0.431373</td>\n",
       "      <td>...</td>\n",
       "      <td>0.972549</td>\n",
       "      <td>0.980392</td>\n",
       "      <td>0.988235</td>\n",
       "      <td>0.988235</td>\n",
       "      <td>0.996078</td>\n",
       "      <td>0.996078</td>\n",
       "      <td>0.992157</td>\n",
       "      <td>0.984314</td>\n",
       "      <td>0.980392</td>\n",
       "      <td>0.976471</td>\n",
       "    </tr>\n",
       "    <tr>\n",
       "      <th>3</th>\n",
       "      <td>0.0</td>\n",
       "      <td>0.996078</td>\n",
       "      <td>0.996078</td>\n",
       "      <td>0.996078</td>\n",
       "      <td>0.996078</td>\n",
       "      <td>0.996078</td>\n",
       "      <td>0.996078</td>\n",
       "      <td>0.992157</td>\n",
       "      <td>0.992157</td>\n",
       "      <td>0.992157</td>\n",
       "      <td>...</td>\n",
       "      <td>0.886275</td>\n",
       "      <td>0.458824</td>\n",
       "      <td>0.050980</td>\n",
       "      <td>0.427451</td>\n",
       "      <td>0.788235</td>\n",
       "      <td>0.882353</td>\n",
       "      <td>0.941176</td>\n",
       "      <td>0.964706</td>\n",
       "      <td>0.968627</td>\n",
       "      <td>0.968627</td>\n",
       "    </tr>\n",
       "    <tr>\n",
       "      <th>4</th>\n",
       "      <td>0.0</td>\n",
       "      <td>0.996078</td>\n",
       "      <td>0.996078</td>\n",
       "      <td>0.996078</td>\n",
       "      <td>0.996078</td>\n",
       "      <td>0.996078</td>\n",
       "      <td>0.996078</td>\n",
       "      <td>0.996078</td>\n",
       "      <td>0.996078</td>\n",
       "      <td>0.996078</td>\n",
       "      <td>...</td>\n",
       "      <td>0.988235</td>\n",
       "      <td>0.996078</td>\n",
       "      <td>1.000000</td>\n",
       "      <td>0.992157</td>\n",
       "      <td>0.984314</td>\n",
       "      <td>0.976471</td>\n",
       "      <td>0.968627</td>\n",
       "      <td>0.972549</td>\n",
       "      <td>0.976471</td>\n",
       "      <td>0.980392</td>\n",
       "    </tr>\n",
       "  </tbody>\n",
       "</table>\n",
       "<p>5 rows × 785 columns</p>\n",
       "</div>"
      ],
      "text/plain": [
       "   label       0.0      0.01      0.02      0.03      0.04      0.05  \\\n",
       "0    0.0  1.000000  0.996078  0.996078  0.992157  0.992157  0.992157   \n",
       "1    0.0  0.992157  0.992157  0.996078  0.996078  0.996078  0.996078   \n",
       "2    0.0  0.988235  0.992157  0.996078  0.992157  0.984314  0.980392   \n",
       "3    0.0  0.996078  0.996078  0.996078  0.996078  0.996078  0.996078   \n",
       "4    0.0  0.996078  0.996078  0.996078  0.996078  0.996078  0.996078   \n",
       "\n",
       "       0.06      0.07      0.08  ...      7.74      7.75      7.76      7.77  \\\n",
       "0  0.992157  0.992157  0.992157  ...  0.984314  0.988235  0.976471  0.968627   \n",
       "1  0.996078  0.996078  0.988235  ...  0.996078  0.992157  0.996078  0.992157   \n",
       "2  0.980392  0.796078  0.431373  ...  0.972549  0.980392  0.988235  0.988235   \n",
       "3  0.992157  0.992157  0.992157  ...  0.886275  0.458824  0.050980  0.427451   \n",
       "4  0.996078  0.996078  0.996078  ...  0.988235  0.996078  1.000000  0.992157   \n",
       "\n",
       "       7.78      7.79       7.8      7.81      7.82      7.83  \n",
       "0  0.839216  0.647059  0.337255  0.047059  0.066667  0.082353  \n",
       "1  0.996078  0.996078  0.992157  1.000000  1.000000  1.000000  \n",
       "2  0.996078  0.996078  0.992157  0.984314  0.980392  0.976471  \n",
       "3  0.788235  0.882353  0.941176  0.964706  0.968627  0.968627  \n",
       "4  0.984314  0.976471  0.968627  0.972549  0.976471  0.980392  \n",
       "\n",
       "[5 rows x 785 columns]"
      ]
     },
     "execution_count": 6,
     "metadata": {},
     "output_type": "execute_result"
    }
   ],
   "source": [
    "data.head()"
   ]
  },
  {
   "cell_type": "code",
   "execution_count": 7,
   "metadata": {},
   "outputs": [],
   "source": [
    "data.rename(columns={'0':'label'}, inplace=True)"
   ]
  },
  {
   "cell_type": "code",
   "execution_count": 9,
   "metadata": {},
   "outputs": [
    {
     "name": "stdout",
     "output_type": "stream",
     "text": [
      "   label  0.0      0.01      0.02      0.03      0.04      0.05      0.06  \\\n",
      "0    0.0  1.0  0.996078  0.996078  0.992157  0.992157  0.992157  0.992157   \n",
      "\n",
      "       0.07      0.08  ...      7.74      7.75      7.76      7.77      7.78  \\\n",
      "0  0.992157  0.992157  ...  0.984314  0.988235  0.976471  0.968627  0.839216   \n",
      "\n",
      "       7.79       7.8      7.81      7.82      7.83  \n",
      "0  0.647059  0.337255  0.047059  0.066667  0.082353  \n",
      "\n",
      "[1 rows x 785 columns]\n"
     ]
    }
   ],
   "source": [
    "print(data.head(1))"
   ]
  },
  {
   "cell_type": "code",
   "execution_count": 10,
   "metadata": {},
   "outputs": [],
   "source": [
    "X , y = data.drop('label',axis=1), data['label']"
   ]
  },
  {
   "cell_type": "code",
   "execution_count": 11,
   "metadata": {},
   "outputs": [
    {
     "data": {
      "text/html": [
       "<div>\n",
       "<style scoped>\n",
       "    .dataframe tbody tr th:only-of-type {\n",
       "        vertical-align: middle;\n",
       "    }\n",
       "\n",
       "    .dataframe tbody tr th {\n",
       "        vertical-align: top;\n",
       "    }\n",
       "\n",
       "    .dataframe thead th {\n",
       "        text-align: right;\n",
       "    }\n",
       "</style>\n",
       "<table border=\"1\" class=\"dataframe\">\n",
       "  <thead>\n",
       "    <tr style=\"text-align: right;\">\n",
       "      <th></th>\n",
       "      <th>count</th>\n",
       "      <th>mean</th>\n",
       "      <th>std</th>\n",
       "      <th>min</th>\n",
       "      <th>25%</th>\n",
       "      <th>50%</th>\n",
       "      <th>75%</th>\n",
       "      <th>max</th>\n",
       "    </tr>\n",
       "  </thead>\n",
       "  <tbody>\n",
       "    <tr>\n",
       "      <th>label</th>\n",
       "      <td>2200.0</td>\n",
       "      <td>7.547727</td>\n",
       "      <td>6.793283</td>\n",
       "      <td>0.000000</td>\n",
       "      <td>1.000000</td>\n",
       "      <td>3.000000</td>\n",
       "      <td>14.000000</td>\n",
       "      <td>25.0</td>\n",
       "    </tr>\n",
       "    <tr>\n",
       "      <th>0.0</th>\n",
       "      <td>2200.0</td>\n",
       "      <td>0.977499</td>\n",
       "      <td>0.103927</td>\n",
       "      <td>0.011765</td>\n",
       "      <td>0.992157</td>\n",
       "      <td>0.996078</td>\n",
       "      <td>0.996078</td>\n",
       "      <td>1.0</td>\n",
       "    </tr>\n",
       "    <tr>\n",
       "      <th>0.01</th>\n",
       "      <td>2200.0</td>\n",
       "      <td>0.974296</td>\n",
       "      <td>0.104731</td>\n",
       "      <td>0.007843</td>\n",
       "      <td>0.992157</td>\n",
       "      <td>0.992157</td>\n",
       "      <td>0.996078</td>\n",
       "      <td>1.0</td>\n",
       "    </tr>\n",
       "    <tr>\n",
       "      <th>0.02</th>\n",
       "      <td>2200.0</td>\n",
       "      <td>0.966070</td>\n",
       "      <td>0.122353</td>\n",
       "      <td>0.011765</td>\n",
       "      <td>0.988235</td>\n",
       "      <td>0.992157</td>\n",
       "      <td>0.996078</td>\n",
       "      <td>1.0</td>\n",
       "    </tr>\n",
       "    <tr>\n",
       "      <th>0.03</th>\n",
       "      <td>2200.0</td>\n",
       "      <td>0.956164</td>\n",
       "      <td>0.146599</td>\n",
       "      <td>0.015686</td>\n",
       "      <td>0.988235</td>\n",
       "      <td>0.992157</td>\n",
       "      <td>0.996078</td>\n",
       "      <td>1.0</td>\n",
       "    </tr>\n",
       "    <tr>\n",
       "      <th>...</th>\n",
       "      <td>...</td>\n",
       "      <td>...</td>\n",
       "      <td>...</td>\n",
       "      <td>...</td>\n",
       "      <td>...</td>\n",
       "      <td>...</td>\n",
       "      <td>...</td>\n",
       "      <td>...</td>\n",
       "    </tr>\n",
       "    <tr>\n",
       "      <th>7.79</th>\n",
       "      <td>2200.0</td>\n",
       "      <td>0.926428</td>\n",
       "      <td>0.191449</td>\n",
       "      <td>0.050980</td>\n",
       "      <td>0.984314</td>\n",
       "      <td>0.992157</td>\n",
       "      <td>0.996078</td>\n",
       "      <td>1.0</td>\n",
       "    </tr>\n",
       "    <tr>\n",
       "      <th>7.8</th>\n",
       "      <td>2200.0</td>\n",
       "      <td>0.943182</td>\n",
       "      <td>0.163014</td>\n",
       "      <td>0.054902</td>\n",
       "      <td>0.988235</td>\n",
       "      <td>0.992157</td>\n",
       "      <td>0.996078</td>\n",
       "      <td>1.0</td>\n",
       "    </tr>\n",
       "    <tr>\n",
       "      <th>7.81</th>\n",
       "      <td>2200.0</td>\n",
       "      <td>0.957615</td>\n",
       "      <td>0.141521</td>\n",
       "      <td>0.031373</td>\n",
       "      <td>0.988235</td>\n",
       "      <td>0.996078</td>\n",
       "      <td>0.996078</td>\n",
       "      <td>1.0</td>\n",
       "    </tr>\n",
       "    <tr>\n",
       "      <th>7.82</th>\n",
       "      <td>2200.0</td>\n",
       "      <td>0.966964</td>\n",
       "      <td>0.121195</td>\n",
       "      <td>0.047059</td>\n",
       "      <td>0.992157</td>\n",
       "      <td>0.996078</td>\n",
       "      <td>0.996078</td>\n",
       "      <td>1.0</td>\n",
       "    </tr>\n",
       "    <tr>\n",
       "      <th>7.83</th>\n",
       "      <td>2200.0</td>\n",
       "      <td>0.971139</td>\n",
       "      <td>0.125414</td>\n",
       "      <td>0.027451</td>\n",
       "      <td>0.992157</td>\n",
       "      <td>0.996078</td>\n",
       "      <td>0.996078</td>\n",
       "      <td>1.0</td>\n",
       "    </tr>\n",
       "  </tbody>\n",
       "</table>\n",
       "<p>785 rows × 8 columns</p>\n",
       "</div>"
      ],
      "text/plain": [
       "        count      mean       std       min       25%       50%        75%  \\\n",
       "label  2200.0  7.547727  6.793283  0.000000  1.000000  3.000000  14.000000   \n",
       "0.0    2200.0  0.977499  0.103927  0.011765  0.992157  0.996078   0.996078   \n",
       "0.01   2200.0  0.974296  0.104731  0.007843  0.992157  0.992157   0.996078   \n",
       "0.02   2200.0  0.966070  0.122353  0.011765  0.988235  0.992157   0.996078   \n",
       "0.03   2200.0  0.956164  0.146599  0.015686  0.988235  0.992157   0.996078   \n",
       "...       ...       ...       ...       ...       ...       ...        ...   \n",
       "7.79   2200.0  0.926428  0.191449  0.050980  0.984314  0.992157   0.996078   \n",
       "7.8    2200.0  0.943182  0.163014  0.054902  0.988235  0.992157   0.996078   \n",
       "7.81   2200.0  0.957615  0.141521  0.031373  0.988235  0.996078   0.996078   \n",
       "7.82   2200.0  0.966964  0.121195  0.047059  0.992157  0.996078   0.996078   \n",
       "7.83   2200.0  0.971139  0.125414  0.027451  0.992157  0.996078   0.996078   \n",
       "\n",
       "        max  \n",
       "label  25.0  \n",
       "0.0     1.0  \n",
       "0.01    1.0  \n",
       "0.02    1.0  \n",
       "0.03    1.0  \n",
       "...     ...  \n",
       "7.79    1.0  \n",
       "7.8     1.0  \n",
       "7.81    1.0  \n",
       "7.82    1.0  \n",
       "7.83    1.0  \n",
       "\n",
       "[785 rows x 8 columns]"
      ]
     },
     "execution_count": 11,
     "metadata": {},
     "output_type": "execute_result"
    }
   ],
   "source": [
    "data.describe().transpose()"
   ]
  },
  {
   "cell_type": "code",
   "execution_count": 12,
   "metadata": {},
   "outputs": [],
   "source": [
    "(X_train, X_test, Y_train, Y_test) = train_test_split(X, y,test_size=0.2)"
   ]
  },
  {
   "cell_type": "code",
   "execution_count": 13,
   "metadata": {},
   "outputs": [
    {
     "data": {
      "text/plain": [
       "MinMaxScaler(copy=True, feature_range=(0, 1))"
      ]
     },
     "execution_count": 13,
     "metadata": {},
     "output_type": "execute_result"
    }
   ],
   "source": [
    "standard_scaler = MinMaxScaler()\n",
    "standard_scaler.fit(X_train)"
   ]
  },
  {
   "cell_type": "code",
   "execution_count": 14,
   "metadata": {},
   "outputs": [],
   "source": [
    "X_train = standard_scaler.transform(X_train)\n",
    "X_test = standard_scaler.transform(X_test)"
   ]
  },
  {
   "cell_type": "code",
   "execution_count": 15,
   "metadata": {},
   "outputs": [],
   "source": [
    "X_train = X_train.reshape((X_train.shape[0], 28, 28, 1)).astype('float32')\n",
    "X_test = X_test.reshape((X_test.shape[0], 28, 28, 1)).astype('float32')"
   ]
  },
  {
   "cell_type": "code",
   "execution_count": 16,
   "metadata": {},
   "outputs": [
    {
     "name": "stdout",
     "output_type": "stream",
     "text": [
      "(1760, 28, 28, 1)\n"
     ]
    }
   ],
   "source": [
    "print(X_train.shape)"
   ]
  },
  {
   "cell_type": "code",
   "execution_count": 20,
   "metadata": {},
   "outputs": [],
   "source": [
    "early_stop = EarlyStopping(monitor='val_loss',mode='min',verbose=1,patience=2)"
   ]
  },
  {
   "cell_type": "code",
   "execution_count": 21,
   "metadata": {},
   "outputs": [],
   "source": [
    "Y_train = np_utils.to_categorical(Y_train)\n",
    "Y_test = np_utils.to_categorical(Y_test)"
   ]
  },
  {
   "cell_type": "code",
   "execution_count": 22,
   "metadata": {},
   "outputs": [
    {
     "name": "stdout",
     "output_type": "stream",
     "text": [
      "(440, 26)\n"
     ]
    }
   ],
   "source": [
    "print(Y_test.shape)"
   ]
  },
  {
   "cell_type": "code",
   "execution_count": 23,
   "metadata": {},
   "outputs": [
    {
     "data": {
      "text/plain": [
       "26"
      ]
     },
     "execution_count": 23,
     "metadata": {},
     "output_type": "execute_result"
    }
   ],
   "source": [
    "num_classes = Y_test.shape[1]\n",
    "num_classes"
   ]
  },
  {
   "cell_type": "code",
   "execution_count": 24,
   "metadata": {},
   "outputs": [],
   "source": [
    "model = Sequential()"
   ]
  },
  {
   "cell_type": "code",
   "execution_count": 25,
   "metadata": {},
   "outputs": [],
   "source": [
    "model.add(Conv2D(64, (5, 5), input_shape=(28, 28, 1), activation='relu', data_format=\"channels_last\", padding=\"same\"))\n",
    "model.add(Conv2D(64, (5, 5), input_shape=(28, 28, 1), activation='relu', data_format=\"channels_last\", padding=\"same\"))\n",
    "model.add(MaxPooling2D(pool_size=(2, 2)))"
   ]
  },
  {
   "cell_type": "code",
   "execution_count": 26,
   "metadata": {},
   "outputs": [],
   "source": [
    "model.add(Conv2D(128, (3, 3), activation='relu', data_format=\"channels_last\", padding=\"same\"))\n",
    "model.add(Conv2D(128, (3, 3), activation='relu', data_format=\"channels_last\", padding=\"same\"))\n",
    "model.add(MaxPooling2D(pool_size=(2, 2)))"
   ]
  },
  {
   "cell_type": "code",
   "execution_count": 27,
   "metadata": {},
   "outputs": [],
   "source": [
    "model.add(Dropout(0.2))"
   ]
  },
  {
   "cell_type": "code",
   "execution_count": 28,
   "metadata": {},
   "outputs": [],
   "source": [
    "model.add(Flatten())\n",
    "model.add(Dense(128, activation='relu'))\n",
    "model.add(Dense(num_classes, activation='softmax'))"
   ]
  },
  {
   "cell_type": "code",
   "execution_count": 29,
   "metadata": {},
   "outputs": [
    {
     "name": "stdout",
     "output_type": "stream",
     "text": [
      "Train on 1760 samples, validate on 440 samples\n",
      "Epoch 1/20\n",
      "1760/1760 [==============================] - 13s 7ms/step - loss: 2.8368 - accuracy: 0.2369 - val_loss: 2.8187 - val_accuracy: 0.1432\n",
      "Epoch 2/20\n",
      "1760/1760 [==============================] - 12s 7ms/step - loss: 2.4411 - accuracy: 0.1903 - val_loss: 2.0110 - val_accuracy: 0.3500\n",
      "Epoch 3/20\n",
      "1760/1760 [==============================] - 12s 7ms/step - loss: 2.0759 - accuracy: 0.3227 - val_loss: 2.0216 - val_accuracy: 0.3523\n",
      "Epoch 4/20\n",
      "1760/1760 [==============================] - 12s 7ms/step - loss: 2.0274 - accuracy: 0.3761 - val_loss: 2.0049 - val_accuracy: 0.4455\n",
      "Epoch 5/20\n",
      "1760/1760 [==============================] - 12s 7ms/step - loss: 1.9771 - accuracy: 0.4398 - val_loss: 1.9179 - val_accuracy: 0.5023\n",
      "Epoch 6/20\n",
      "1760/1760 [==============================] - 12s 7ms/step - loss: 1.8860 - accuracy: 0.4693 - val_loss: 1.7594 - val_accuracy: 0.5045\n",
      "Epoch 7/20\n",
      "1760/1760 [==============================] - 13s 7ms/step - loss: 1.7098 - accuracy: 0.4994 - val_loss: 1.5810 - val_accuracy: 0.5682\n",
      "Epoch 8/20\n",
      "1760/1760 [==============================] - 12s 7ms/step - loss: 1.5348 - accuracy: 0.5580 - val_loss: 1.4572 - val_accuracy: 0.5841\n",
      "Epoch 9/20\n",
      "1760/1760 [==============================] - 12s 7ms/step - loss: 1.3953 - accuracy: 0.5949 - val_loss: 1.3725 - val_accuracy: 0.6205\n",
      "Epoch 10/20\n",
      "1760/1760 [==============================] - 12s 7ms/step - loss: 1.2193 - accuracy: 0.6574 - val_loss: 1.1919 - val_accuracy: 0.6705\n",
      "Epoch 11/20\n",
      "1760/1760 [==============================] - 12s 7ms/step - loss: 1.1003 - accuracy: 0.6801 - val_loss: 1.0693 - val_accuracy: 0.6977\n",
      "Epoch 12/20\n",
      "1760/1760 [==============================] - 12s 7ms/step - loss: 0.9395 - accuracy: 0.7199 - val_loss: 1.0336 - val_accuracy: 0.7136\n",
      "Epoch 13/20\n",
      "1760/1760 [==============================] - 12s 7ms/step - loss: 0.8231 - accuracy: 0.7557 - val_loss: 0.8497 - val_accuracy: 0.7682\n",
      "Epoch 14/20\n",
      "1760/1760 [==============================] - 12s 7ms/step - loss: 0.6626 - accuracy: 0.7881 - val_loss: 0.7903 - val_accuracy: 0.7659\n",
      "Epoch 15/20\n",
      "1760/1760 [==============================] - 12s 7ms/step - loss: 0.5222 - accuracy: 0.8386 - val_loss: 0.7267 - val_accuracy: 0.8000\n",
      "Epoch 16/20\n",
      "1760/1760 [==============================] - 12s 7ms/step - loss: 0.4047 - accuracy: 0.8761 - val_loss: 0.7304 - val_accuracy: 0.8068\n",
      "Epoch 17/20\n",
      "1760/1760 [==============================] - 12s 7ms/step - loss: 0.3173 - accuracy: 0.8983 - val_loss: 0.6868 - val_accuracy: 0.8227\n",
      "Epoch 18/20\n",
      "1760/1760 [==============================] - 12s 7ms/step - loss: 0.2491 - accuracy: 0.9187 - val_loss: 0.6802 - val_accuracy: 0.8295\n",
      "Epoch 19/20\n",
      "1760/1760 [==============================] - 12s 7ms/step - loss: 0.1880 - accuracy: 0.9403 - val_loss: 0.6693 - val_accuracy: 0.8477\n",
      "Epoch 20/20\n",
      "1760/1760 [==============================] - 12s 7ms/step - loss: 0.1676 - accuracy: 0.9460 - val_loss: 0.6745 - val_accuracy: 0.8500\n"
     ]
    },
    {
     "data": {
      "text/plain": [
       "<keras.callbacks.callbacks.History at 0x2b5d0a42f28>"
      ]
     },
     "execution_count": 29,
     "metadata": {},
     "output_type": "execute_result"
    }
   ],
   "source": [
    "\n",
    "model.compile(loss='categorical_crossentropy', optimizer='adam', metrics=['accuracy'])\n",
    "model.fit(X_train, Y_train, validation_data=(X_test, Y_test), epochs=20, batch_size=256, verbose=1,callbacks=[early_stop])"
   ]
  },
  {
   "cell_type": "code",
   "execution_count": 30,
   "metadata": {},
   "outputs": [
    {
     "name": "stdout",
     "output_type": "stream",
     "text": [
      "440/440 [==============================] - 1s 2ms/step\n",
      "CNN Error: 15.00%\n"
     ]
    }
   ],
   "source": [
    "scores = model.evaluate(X_test,Y_test, verbose=1)\n",
    "print(\"CNN Error: %.2f%%\" % (100-scores[1]*100))"
   ]
  },
  {
   "cell_type": "code",
   "execution_count": 31,
   "metadata": {},
   "outputs": [],
   "source": [
    "model.save('weights.model')\n",
    "model.save_weights(\"model_alpha.h5\")"
   ]
  },
  {
   "cell_type": "code",
   "execution_count": 32,
   "metadata": {},
   "outputs": [
    {
     "name": "stdout",
     "output_type": "stream",
     "text": [
      "Accuracy : 85.00000238418579\n"
     ]
    }
   ],
   "source": [
    "print(f\"Accuracy : {(scores[1]*100)}\")"
   ]
  },
  {
   "cell_type": "code",
   "execution_count": 33,
   "metadata": {},
   "outputs": [
    {
     "data": {
      "text/plain": [
       "<matplotlib.axes._subplots.AxesSubplot at 0x2b580fa1358>"
      ]
     },
     "execution_count": 33,
     "metadata": {},
     "output_type": "execute_result"
    },
    {
     "data": {
      "image/png": "[encoded data removed]",
      "text/plain": [
       "<Figure size 432x288 with 1 Axes>"
      ]
     },
     "metadata": {
      "needs_background": "light"
     },
     "output_type": "display_data"
    }
   ],
   "source": [
    "model_loss = pd.DataFrame(model.history.history)\n",
    "model_loss.plot()"
   ]
  },
  {
   "cell_type": "code",
   "execution_count": 34,
   "metadata": {
    "scrolled": true
   },
   "outputs": [
    {
     "data": {
      "text/plain": [
       "(440,)"
      ]
     },
     "execution_count": 34,
     "metadata": {},
     "output_type": "execute_result"
    }
   ],
   "source": [
    "predictions = model.predict_classes(X_test)\n",
    "predictions.shape"
   ]
  },
  {
   "cell_type": "code",
   "execution_count": 38,
   "metadata": {},
   "outputs": [
    {
     "name": "stdout",
     "output_type": "stream",
     "text": [
      "Saved model to disk\n"
     ]
    }
   ],
   "source": [
    "!mkdir -p saved_model\n",
    "model.save('saved_model/my_model1')"
   ]
  }
 ],
 "metadata": {
  "kernelspec": {
   "display_name": "Python 3",
   "language": "python",
   "name": "python3"
  },
  "language_info": {
   "codemirror_mode": {
    "name": "ipython",
    "version": 3
   },
   "file_extension": ".py",
   "mimetype": "text/x-python",
   "name": "python",
   "nbconvert_exporter": "python",
   "pygments_lexer": "ipython3",
   "version": "3.6.10"
  }
 },
 "nbformat": 4,
 "nbformat_minor": 4
}
